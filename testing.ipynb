{
 "cells": [
  {
   "cell_type": "code",
   "execution_count": 1,
   "metadata": {},
   "outputs": [
    {
     "name": "stdout",
     "output_type": "stream",
     "text": [
      "a\n"
     ]
    }
   ],
   "source": [
    "import os\n",
    "os.environ[\"PYTHONHASHSEED\"] = \"0\"\n",
    "class a:\n",
    "    def __init__(self):\n",
    "        a.name = \"a\"\n",
    "        \n",
    "e = a()\n",
    "print(e.name)"
   ]
  },
  {
   "cell_type": "code",
   "execution_count": 2,
   "metadata": {},
   "outputs": [
    {
     "name": "stdout",
     "output_type": "stream",
     "text": [
      "3391320394867299641\n"
     ]
    }
   ],
   "source": [
    "print(hash(a.name))"
   ]
  },
  {
   "cell_type": "code",
   "execution_count": 3,
   "metadata": {},
   "outputs": [
    {
     "name": "stdout",
     "output_type": "stream",
     "text": [
      "3391320394867299641\n"
     ]
    }
   ],
   "source": [
    "print(hash(a.name))"
   ]
  },
  {
   "cell_type": "code",
   "execution_count": 4,
   "metadata": {},
   "outputs": [
    {
     "name": "stdout",
     "output_type": "stream",
     "text": [
      "3391320394867299641\n"
     ]
    }
   ],
   "source": [
    "print(hash('a'))"
   ]
  },
  {
   "cell_type": "code",
   "execution_count": 2,
   "metadata": {},
   "outputs": [
    {
     "name": "stdout",
     "output_type": "stream",
     "text": [
      "1 1\n",
      "1 2\n"
     ]
    }
   ],
   "source": [
    "class Foo(object):\n",
    "    def __init__(self,val):\n",
    "        self.value=val\n",
    "        \n",
    "a = Foo(1)\n",
    "b = [locals()['a']]\n",
    "print(b[0].value, a.value)\n",
    "a = Foo(2)\n",
    "print(b[0].value, a.value)\n",
    "# How do I make the list of objects a reference to the object instead of a copy of the object?\n",
    "\n"
   ]
  },
  {
   "cell_type": "code",
   "execution_count": null,
   "metadata": {},
   "outputs": [],
   "source": []
  }
 ],
 "metadata": {
  "kernelspec": {
   "display_name": "venv",
   "language": "python",
   "name": "python3"
  },
  "language_info": {
   "codemirror_mode": {
    "name": "ipython",
    "version": 3
   },
   "file_extension": ".py",
   "mimetype": "text/x-python",
   "name": "python",
   "nbconvert_exporter": "python",
   "pygments_lexer": "ipython3",
   "version": "3.11.4"
  },
  "orig_nbformat": 4
 },
 "nbformat": 4,
 "nbformat_minor": 2
}
