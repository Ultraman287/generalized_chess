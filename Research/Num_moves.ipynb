{
 "cells": [
  {
   "cell_type": "markdown",
   "metadata": {},
   "source": [
    "This was a rough playground to mess around with and do some of the calculations for the necessary constants within the reinforcment learning algorithm solution."
   ]
  },
  {
   "cell_type": "code",
   "execution_count": 8,
   "metadata": {},
   "outputs": [
    {
     "name": "stdout",
     "output_type": "stream",
     "text": [
      "{'wP1->(1, 0)': 1, 'wP1->(1, 1)': 2, 'wP1->(1, 2)': 3, 'wP1->(0, 0)': 4, 'wP1->(0, 1)': 5, 'wP1->(0, 2)': 6, 'wP1->(0, 3)': 7, 'wP2->(1, 1)': 8, 'wP2->(1, 2)': 9, 'wP2->(1, 3)': 10, 'wP2->(0, 0)': 11, 'wP2->(0, 1)': 12, 'wP2->(0, 2)': 13, 'wP2->(0, 3)': 14, 'bP1->(2, 0)': 15, 'bP1->(2, 1)': 16, 'bP1->(2, 2)': 17, 'bP1->(3, 0)': 18, 'bP1->(3, 1)': 19, 'bP1->(3, 2)': 20, 'bP1->(3, 3)': 21, 'bP2->(2, 1)': 22, 'bP2->(2, 2)': 23, 'bP2->(2, 3)': 24, 'bP2->(3, 0)': 25, 'bP2->(3, 1)': 26, 'bP2->(3, 2)': 27, 'bP2->(3, 3)': 28, 'wB->(3, 0)': 29, 'wB->(2, 1)': 30, 'wB->(1, 2)': 31, 'wB->(0, 3)': 32, 'wB->(0, 1)': 33, 'wB->(2, 3)': 34, 'wB->(1, 0)': 35, 'wB->(3, 2)': 36, 'bB->(0, 0)': 37, 'bB->(1, 1)': 38, 'bB->(2, 2)': 39, 'bB->(3, 3)': 40, 'bB->(1, 3)': 41, 'bB->(3, 1)': 42, 'bB->(0, 2)': 43, 'bB->(2, 0)': 44, 'wR->(0,0)': 45, 'wR->(0,1)': 46, 'wR->(0,2)': 47, 'wR->(0,3)': 48, 'wR->(1,0)': 49, 'wR->(1,1)': 50, 'wR->(1,2)': 51, 'wR->(1,3)': 52, 'wR->(2,0)': 53, 'wR->(2,1)': 54, 'wR->(2,2)': 55, 'wR->(2,3)': 56, 'wR->(3,0)': 57, 'wR->(3,1)': 58, 'wR->(3,2)': 59, 'wR->(3,3)': 60, 'bR->(0,0)': 61, 'bR->(0,1)': 62, 'bR->(0,2)': 63, 'bR->(0,3)': 64, 'bR->(1,0)': 65, 'bR->(1,1)': 66, 'bR->(1,2)': 67, 'bR->(1,3)': 68, 'bR->(2,0)': 69, 'bR->(2,1)': 70, 'bR->(2,2)': 71, 'bR->(2,3)': 72, 'bR->(3,0)': 73, 'bR->(3,1)': 74, 'bR->(3,2)': 75, 'bR->(3,3)': 76, 'wN->(0,0)': 77, 'wN->(0,1)': 78, 'wN->(0,2)': 79, 'wN->(0,3)': 80, 'wN->(1,0)': 81, 'wN->(1,1)': 82, 'wN->(1,2)': 83, 'wN->(1,3)': 84, 'wN->(2,0)': 85, 'wN->(2,1)': 86, 'wN->(2,2)': 87, 'wN->(2,3)': 88, 'wN->(3,0)': 89, 'wN->(3,1)': 90, 'wN->(3,2)': 91, 'wN->(3,3)': 92, 'bN->(0,0)': 93, 'bN->(0,1)': 94, 'bN->(0,2)': 95, 'bN->(0,3)': 96, 'bN->(1,0)': 97, 'bN->(1,1)': 98, 'bN->(1,2)': 99, 'bN->(1,3)': 100, 'bN->(2,0)': 101, 'bN->(2,1)': 102, 'bN->(2,2)': 103, 'bN->(2,3)': 104, 'bN->(3,0)': 105, 'bN->(3,1)': 106, 'bN->(3,2)': 107, 'bN->(3,3)': 108, 'wK->(0,0)': 109, 'wK->(0,1)': 110, 'wK->(0,2)': 111, 'wK->(0,3)': 112, 'wK->(1,0)': 113, 'wK->(1,1)': 114, 'wK->(1,2)': 115, 'wK->(1,3)': 116, 'wK->(2,0)': 117, 'wK->(2,1)': 118, 'wK->(2,2)': 119, 'wK->(2,3)': 120, 'wK->(3,0)': 121, 'wK->(3,1)': 122, 'wK->(3,2)': 123, 'wK->(3,3)': 124, 'bK->(0,0)': 125, 'bK->(0,1)': 126, 'bK->(0,2)': 127, 'bK->(0,3)': 128, 'bK->(1,0)': 129, 'bK->(1,1)': 130, 'bK->(1,2)': 131, 'bK->(1,3)': 132, 'bK->(2,0)': 133, 'bK->(2,1)': 134, 'bK->(2,2)': 135, 'bK->(2,3)': 136, 'bK->(3,0)': 137, 'bK->(3,1)': 138, 'bK->(3,2)': 139, 'bK->(3,3)': 140}\n"
     ]
    }
   ],
   "source": [
    "import numpy as np\n",
    "import numpy as np\n",
    "_NUM_ROWS = 4\n",
    "_NUM_COLS = 4\n",
    "a = np.full((_NUM_ROWS, _NUM_COLS), \".\")\n",
    "b = np.full((_NUM_ROWS, _NUM_COLS), \".\")\n",
    "\n",
    "\n",
    "# Define the array\n",
    "a = np.array([['bB', 'bR', 'bK', 'bN'],\n",
    "              ['', 'bP1', 'bP2', ''],\n",
    "              ['', 'wP1', 'wP2', ''],\n",
    "              ['wB', 'wR', 'wK', 'wN']])\n",
    "\n",
    "\n",
    "# Here I'm mapping every possible move to a dictionary of actions where a pawn can move the the 1 space forward and \n",
    "# two spaces on the diagonal. this results in each pawn only having 6 possible spaces they can move to. Similarly, for the \n",
    "# bishops, each can move to 8 of the spaces in the board. The rooks, knights and king can move to all 16 spaces on the board.\n",
    "\n",
    "action_space = {}\n",
    "\n",
    "action_space['wP1->(1, 0)'] = 1\n",
    "action_space['wP1->(1, 1)'] = 2\n",
    "action_space['wP1->(1, 2)'] = 3\n",
    "action_space['wP1->(0, 0)'] = 4\n",
    "action_space['wP1->(0, 1)'] = 5\n",
    "action_space['wP1->(0, 2)'] = 6\n",
    "action_space['wP1->(0, 3)'] = 7\n",
    "action_space['wP2->(1, 1)'] = 8\n",
    "action_space['wP2->(1, 2)'] = 9\n",
    "action_space['wP2->(1, 3)'] = 10\n",
    "action_space['wP2->(0, 0)'] = 11\n",
    "action_space['wP2->(0, 1)'] = 12\n",
    "action_space['wP2->(0, 2)'] = 13\n",
    "action_space['wP2->(0, 3)'] = 14\n",
    "action_space['bP1->(2, 0)'] = 15\n",
    "action_space['bP1->(2, 1)'] = 16\n",
    "action_space['bP1->(2, 2)'] = 17\n",
    "action_space['bP1->(3, 0)'] = 18\n",
    "action_space['bP1->(3, 1)'] = 19\n",
    "action_space['bP1->(3, 2)'] = 20\n",
    "action_space['bP1->(3, 3)'] = 21\n",
    "action_space['bP2->(2, 1)'] = 22\n",
    "action_space['bP2->(2, 2)'] = 23\n",
    "action_space['bP2->(2, 3)'] = 24\n",
    "action_space['bP2->(3, 0)'] = 25\n",
    "action_space['bP2->(3, 1)'] = 26\n",
    "action_space['bP2->(3, 2)'] = 27\n",
    "action_space['bP2->(3, 3)'] = 28\n",
    "action_space['wB->(3, 0)'] = 29\n",
    "action_space['wB->(2, 1)'] = 30\n",
    "action_space['wB->(1, 2)'] = 31\n",
    "action_space['wB->(0, 3)'] = 32\n",
    "action_space['wB->(0, 1)'] = 33\n",
    "action_space['wB->(2, 3)'] = 34\n",
    "action_space['wB->(1, 0)'] = 35\n",
    "action_space['wB->(3, 2)'] = 36\n",
    "action_space['bB->(0, 0)'] = 37\n",
    "action_space['bB->(1, 1)'] = 38\n",
    "action_space['bB->(2, 2)'] = 39\n",
    "action_space['bB->(3, 3)'] = 40\n",
    "action_space['bB->(1, 3)'] = 41\n",
    "action_space['bB->(3, 1)'] = 42\n",
    "action_space['bB->(0, 2)'] = 43\n",
    "action_space['bB->(2, 0)'] = 44\n",
    "\n",
    "cur = 45\n",
    "go_over_all = ['wR','bR','wN','bN','wK','bK']\n",
    "\n",
    "for piece in go_over_all:\n",
    "    for i in range(4):\n",
    "        for j in range(4):\n",
    "            action_space[piece+'->('+str(i)+','+str(j)+')'] = cur\n",
    "            cur += 1\n",
    "\n",
    "space_action = {v: k for k, v in action_space.items()}"
   ]
  },
  {
   "cell_type": "code",
   "execution_count": 9,
   "metadata": {},
   "outputs": [
    {
     "name": "stdout",
     "output_type": "stream",
     "text": [
      "140\n"
     ]
    }
   ],
   "source": [
    "print(len(action_space))"
   ]
  },
  {
   "cell_type": "code",
   "execution_count": 11,
   "metadata": {},
   "outputs": [
    {
     "data": {
      "text/plain": [
       "16"
      ]
     },
     "execution_count": 11,
     "metadata": {},
     "output_type": "execute_result"
    }
   ],
   "source": [
    "np.prod((4,4))"
   ]
  },
  {
   "cell_type": "code",
   "execution_count": 12,
   "metadata": {},
   "outputs": [
    {
     "data": {
      "text/plain": [
       "208"
      ]
     },
     "execution_count": 12,
     "metadata": {},
     "output_type": "execute_result"
    }
   ],
   "source": [
    "16*13"
   ]
  },
  {
   "cell_type": "code",
   "execution_count": null,
   "metadata": {},
   "outputs": [],
   "source": []
  }
 ],
 "metadata": {
  "kernelspec": {
   "display_name": "venv",
   "language": "python",
   "name": "python3"
  },
  "language_info": {
   "codemirror_mode": {
    "name": "ipython",
    "version": 3
   },
   "file_extension": ".py",
   "mimetype": "text/x-python",
   "name": "python",
   "nbconvert_exporter": "python",
   "pygments_lexer": "ipython3",
   "version": "3.11.4"
  }
 },
 "nbformat": 4,
 "nbformat_minor": 2
}
